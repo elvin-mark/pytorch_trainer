{
  "nbformat": 4,
  "nbformat_minor": 0,
  "metadata": {
    "colab": {
      "name": "pytorch_trainer_tutorial_1.ipynb",
      "provenance": [],
      "collapsed_sections": []
    },
    "kernelspec": {
      "name": "python3",
      "display_name": "Python 3"
    },
    "language_info": {
      "name": "python"
    },
    "accelerator": "GPU"
  },
  "cells": [
    {
      "cell_type": "code",
      "source": [
        "from google.colab import drive\n",
        "from IPython.display import clear_output\n",
        "drive.mount(\"./content\")"
      ],
      "metadata": {
        "colab": {
          "base_uri": "https://localhost:8080/"
        },
        "id": "mpUMF5up9Fsm",
        "outputId": "8b724b55-7e03-4772-dab9-e58fd7c895d6"
      },
      "execution_count": 2,
      "outputs": [
        {
          "output_type": "stream",
          "name": "stdout",
          "text": [
            "Mounted at ./content\n"
          ]
        }
      ]
    },
    {
      "cell_type": "code",
      "source": [
        "!mkdir .kaggle\n",
        "!cp ./content/MyDrive/kaggle/kaggle.json .kaggle/\n",
        "!mv .kaggle ~/"
      ],
      "metadata": {
        "id": "1XdWGo929KqY"
      },
      "execution_count": 3,
      "outputs": []
    },
    {
      "cell_type": "code",
      "source": [
        "!git clone https://github.com/elvin-mark/pytorch_trainer.git\n",
        "%cd pytorch_trainer"
      ],
      "metadata": {
        "colab": {
          "base_uri": "https://localhost:8080/"
        },
        "id": "dD-lV4Ae55PN",
        "outputId": "d732be74-2811-485c-e9fe-74fe860184a9"
      },
      "execution_count": 4,
      "outputs": [
        {
          "output_type": "stream",
          "name": "stdout",
          "text": [
            "Cloning into 'pytorch_trainer'...\n",
            "remote: Enumerating objects: 273, done.\u001b[K\n",
            "remote: Counting objects: 100% (273/273), done.\u001b[K\n",
            "remote: Compressing objects: 100% (191/191), done.\u001b[K\n",
            "remote: Total 273 (delta 154), reused 187 (delta 70), pack-reused 0\u001b[K\n",
            "Receiving objects: 100% (273/273), 1.65 MiB | 5.30 MiB/s, done.\n",
            "Resolving deltas: 100% (154/154), done.\n",
            "/content/pytorch_trainer\n"
          ]
        }
      ]
    },
    {
      "cell_type": "code",
      "source": [
        "!python3 train.py --help"
      ],
      "metadata": {
        "colab": {
          "base_uri": "https://localhost:8080/"
        },
        "id": "-KiUg63r7zyO",
        "outputId": "5ba4bf31-1e95-4d59-9dff-3fc35098de44"
      },
      "execution_count": 4,
      "outputs": [
        {
          "output_type": "stream",
          "name": "stdout",
          "text": [
            "usage: train.py [-h]\n",
            "                [--dataset {digits,mnist,kmnist,fashion_mnist,cifar10,cifar100,image_folder}]\n",
            "                [--root ROOT] [--num-classes NUM_CLASSES]\n",
            "                [--model {digits_cnn,digits_resnet,mnist_cnn,mnist_resnet,cifar10_cnn,cifar10_resnet,cifar100_cnn,simple_general_cnn,resnet18}]\n",
            "                [--batch-size BATCH_SIZE] [--gpu] [--optim OPTIM] [--lr LR]\n",
            "                [--epochs EPOCHS] [--logging] [--no-logging] [--save-model]\n",
            "                [--csv] [--dashboard] [--port PORT] [--checkpoint CHECKPOINT]\n",
            "                [--landscape] [--samples] [--url URL]\n",
            "                [--start-model START_MODEL] [--save-labels] [--customize]\n",
            "                [--sched {none,step}] [--step-size STEP_SIZE] [--gamma GAMMA]\n",
            "                [--split-dataset] [--train-size TRAIN_SIZE]\n",
            "\n",
            "Simple Trainer for computer vision models\n",
            "\n",
            "optional arguments:\n",
            "  -h, --help            show this help message and exit\n",
            "  --dataset {digits,mnist,kmnist,fashion_mnist,cifar10,cifar100,image_folder}\n",
            "                        Dataset to be used\n",
            "  --root ROOT           Root folder for images\n",
            "  --num-classes NUM_CLASSES\n",
            "                        Number of classes\n",
            "  --model {digits_cnn,digits_resnet,mnist_cnn,mnist_resnet,cifar10_cnn,cifar10_resnet,cifar100_cnn,simple_general_cnn,resnet18}\n",
            "                        Model to be trained\n",
            "  --batch-size BATCH_SIZE\n",
            "                        Batch size to be used in the DataLoaders\n",
            "  --gpu                 Train using GPU\n",
            "  --optim OPTIM         Optimzer to be used\n",
            "  --lr LR               Learning rate\n",
            "  --epochs EPOCHS       Number of epochs\n",
            "  --logging             Logging training process\n",
            "  --no-logging          No Logging during training\n",
            "  --save-model          Save trained model\n",
            "  --csv                 Make a csv file recording the training process\n",
            "  --dashboard           Visualize training process in a dashboard\n",
            "  --port PORT           Port of the dashboard server\n",
            "  --checkpoint CHECKPOINT\n",
            "                        Checkpoint frequency\n",
            "  --landscape           Show loss landscape in the dashboard\n",
            "  --samples             show some sample images in the dashboard\n",
            "  --url URL             Specify a customize URL for the dashboard\n",
            "  --start-model START_MODEL\n",
            "                        Initial checkpoint for training\n",
            "  --save-labels         Save the labels to map the classes\n",
            "  --customize           Customize models and datasets\n",
            "  --sched {none,step}   Schedule for learning rate\n",
            "  --step-size STEP_SIZE\n",
            "                        Step size for learning rate\n",
            "  --gamma GAMMA         Gamma for learning rate\n",
            "  --split-dataset       split the images in the root folder into train and\n",
            "                        test datset\n",
            "  --train-size TRAIN_SIZE\n",
            "                        train size scale when splitting the dataset into train\n",
            "                        and test dataset\n"
          ]
        }
      ]
    },
    {
      "cell_type": "code",
      "source": [
        "!python test.py --help"
      ],
      "metadata": {
        "colab": {
          "base_uri": "https://localhost:8080/"
        },
        "id": "FzMhO67-71m_",
        "outputId": "1673eff4-4707-4b8f-8239-1fbf65115931"
      },
      "execution_count": 5,
      "outputs": [
        {
          "output_type": "stream",
          "name": "stdout",
          "text": [
            "usage: test.py [-h]\n",
            "               [--dataset {digits,mnist,kmnist,fashion_mnist,cifar10,cifar100,image_folder}]\n",
            "               [--root ROOT] [--num-classes NUM_CLASSES]\n",
            "               [--model {digits_cnn,digits_resnet,mnist_cnn,mnist_resnet,cifar10_cnn,cifar10_resnet,cifar100_cnn,simple_general_cnn,resnet18}]\n",
            "               [--batch-size BATCH_SIZE] [--gpu] [--model-path MODEL_PATH]\n",
            "               [--landscape] [--samples] [--url URL] [--dashboard]\n",
            "               [--port PORT] [--customize] [--split-dataset]\n",
            "               [--train-size TRAIN_SIZE]\n",
            "\n",
            "Simple Tester for computer vision models\n",
            "\n",
            "optional arguments:\n",
            "  -h, --help            show this help message and exit\n",
            "  --dataset {digits,mnist,kmnist,fashion_mnist,cifar10,cifar100,image_folder}\n",
            "                        Dataset to be used\n",
            "  --root ROOT           Root folder for images\n",
            "  --num-classes NUM_CLASSES\n",
            "                        Number of classes\n",
            "  --model {digits_cnn,digits_resnet,mnist_cnn,mnist_resnet,cifar10_cnn,cifar10_resnet,cifar100_cnn,simple_general_cnn,resnet18}\n",
            "                        Model to be trained\n",
            "  --batch-size BATCH_SIZE\n",
            "                        Batch size to be used in the DataLoaders\n",
            "  --gpu                 Train using GPU\n",
            "  --model-path MODEL_PATH\n",
            "                        Path to the saved model\n",
            "  --landscape           Show loss landscape in the dashboard\n",
            "  --samples             show some sample images in the dashboard\n",
            "  --url URL             Specify a customize URL for the dashboard\n",
            "  --dashboard           Visualize training process in a dashboard\n",
            "  --port PORT           Port of the dashboard server\n",
            "  --customize           Customize models and datasets\n",
            "  --split-dataset       split the images in the root folder into train and\n",
            "                        test datset\n",
            "  --train-size TRAIN_SIZE\n",
            "                        train size scale when splitting the dataset into train\n",
            "                        and test dataset\n"
          ]
        }
      ]
    },
    {
      "cell_type": "code",
      "source": [
        "import os \n",
        "os.environ[\"URL_DASHBOARD\"] = \"https://c413-240b-10-2e60-6e00-d38-43fd-efcf-1f4d.ngrok.io/\""
      ],
      "metadata": {
        "id": "f0ggJmigK1d3"
      },
      "execution_count": 1,
      "outputs": []
    },
    {
      "cell_type": "markdown",
      "source": [
        "# DIGITS"
      ],
      "metadata": {
        "id": "uWarXqxVlFd-"
      }
    },
    {
      "cell_type": "code",
      "source": [
        "!python3 train.py --checkpoint 1 --dashboard --url $URL_DASHBOARD --samples --landscape --save-model"
      ],
      "metadata": {
        "colab": {
          "base_uri": "https://localhost:8080/"
        },
        "id": "soiqAUm86O3h",
        "outputId": "9b5b742f-9ab9-470c-dcf3-f571ffbb44c3"
      },
      "execution_count": 11,
      "outputs": [
        {
          "output_type": "stream",
          "name": "stdout",
          "text": [
            "Using CPU for training. It can be a little bit slow\n",
            "Preparing Dashboard Logger\n",
            "Start Training ...\n",
            "  0% 0/10 [00:00<?, ?it/s]epoch: 0, train_loss: 1.0510466057880252, train_acc: 64.94%, test_loss: 0.6727370619773865, test_acc: 78.33%\n",
            " 10% 1/10 [00:00<00:03,  2.37it/s]epoch: 1, train_loss: 0.2487959123271353, train_acc: 91.47%, test_loss: 0.20207449793815613, test_acc: 93.33%\n",
            " 20% 2/10 [00:00<00:03,  2.18it/s]epoch: 2, train_loss: 0.12282380659827123, train_acc: 95.98%, test_loss: 0.17377600943048796, test_acc: 94.44%\n",
            " 30% 3/10 [00:01<00:02,  2.36it/s]epoch: 3, train_loss: 0.251354704337085, train_acc: 92.89%, test_loss: 0.11723433683315913, test_acc: 96.11%\n",
            " 40% 4/10 [00:01<00:02,  2.47it/s]epoch: 4, train_loss: 0.14231853815270404, train_acc: 95.36%, test_loss: 0.10178171408673127, test_acc: 97.78%\n",
            " 50% 5/10 [00:02<00:02,  2.46it/s]epoch: 5, train_loss: 0.1188898444559206, train_acc: 96.60%, test_loss: 0.32927028089761734, test_acc: 91.67%\n",
            " 60% 6/10 [00:02<00:01,  2.51it/s]epoch: 6, train_loss: 0.06748199072671031, train_acc: 97.96%, test_loss: 0.10274586143592994, test_acc: 96.67%\n",
            " 70% 7/10 [00:02<00:01,  2.45it/s]epoch: 7, train_loss: 0.03981507009274198, train_acc: 98.70%, test_loss: 0.10282699360201757, test_acc: 97.22%\n",
            " 80% 8/10 [00:03<00:00,  2.53it/s]epoch: 8, train_loss: 0.01948983612865228, train_acc: 99.32%, test_loss: 0.12311041541397572, test_acc: 97.22%\n",
            " 90% 9/10 [00:03<00:00,  2.57it/s]epoch: 9, train_loss: 0.008978797480356697, train_acc: 99.88%, test_loss: 0.10727384546771646, test_acc: 98.33%\n",
            "100% 10/10 [00:04<00:00,  2.50it/s]\n",
            "Saving model ...\n",
            "Generating Sample Images Test\n",
            "Generating Landscape\n"
          ]
        }
      ]
    },
    {
      "cell_type": "markdown",
      "source": [
        "# MNIST"
      ],
      "metadata": {
        "id": "4GRW0TVnlHOe"
      }
    },
    {
      "cell_type": "code",
      "source": [
        "!python3 train.py --model mnist_cnn --dataset mnist --save-model --gpu --dashboard --url $URL_DASHBOARD"
      ],
      "metadata": {
        "colab": {
          "base_uri": "https://localhost:8080/"
        },
        "id": "mWl0Q6d16auZ",
        "outputId": "01b352c8-dceb-4f73-e618-33bc9fa65661"
      },
      "execution_count": 9,
      "outputs": [
        {
          "output_type": "stream",
          "name": "stdout",
          "text": [
            "Using GPU for training\n",
            "Start Training ...\n",
            "  0% 0/10 [00:00<?, ?it/s]epoch: 0, train_loss: 0.11352370465293837, train_acc: 96.78%, test_loss: 0.05595822454519055, test_acc: 98.27%\n",
            " 10% 1/10 [00:17<02:40, 17.84s/it]epoch: 1, train_loss: 0.04719476397094161, train_acc: 98.62%, test_loss: 0.04623952998051468, test_acc: 98.56%\n",
            " 20% 2/10 [00:35<02:22, 17.87s/it]epoch: 2, train_loss: 0.032797879874743134, train_acc: 99.08%, test_loss: 0.04159991616256993, test_acc: 98.76%\n",
            " 30% 3/10 [00:53<02:04, 17.83s/it]epoch: 3, train_loss: 0.023511351842053895, train_acc: 99.37%, test_loss: 0.0423159008528404, test_acc: 98.74%\n",
            " 40% 4/10 [01:11<01:46, 17.81s/it]epoch: 4, train_loss: 0.01737932979731704, train_acc: 99.60%, test_loss: 0.042871066480004924, test_acc: 98.67%\n",
            " 50% 5/10 [01:29<01:28, 17.79s/it]epoch: 5, train_loss: 0.012411603072613556, train_acc: 99.75%, test_loss: 0.04461552301047439, test_acc: 98.64%\n",
            " 60% 6/10 [01:47<01:12, 18.17s/it]epoch: 6, train_loss: 0.008839042741174247, train_acc: 99.85%, test_loss: 0.04389527109498476, test_acc: 98.83%\n",
            " 70% 7/10 [02:05<00:54, 18.01s/it]epoch: 7, train_loss: 0.006021116806356198, train_acc: 99.92%, test_loss: 0.04416726224791402, test_acc: 98.83%\n",
            " 80% 8/10 [02:23<00:35, 17.92s/it]epoch: 8, train_loss: 0.004047711747565093, train_acc: 99.96%, test_loss: 0.04467336891567144, test_acc: 98.85%\n",
            " 90% 9/10 [02:41<00:17, 17.87s/it]epoch: 9, train_loss: 0.0027203111085119113, train_acc: 99.99%, test_loss: 0.047171940580574154, test_acc: 98.89%\n",
            "100% 10/10 [02:58<00:00, 17.90s/it]\n",
            "Saving model ...\n"
          ]
        }
      ]
    },
    {
      "cell_type": "markdown",
      "source": [
        "# KMNIST"
      ],
      "metadata": {
        "id": "CGdxOl47lJJd"
      }
    },
    {
      "cell_type": "code",
      "source": [
        "!python3 train.py --model mnist_cnn --dataset kmnist --epochs 10 --lr 0.1 --save-model --gpu --dashboard --url $URL_DASHBOARD --samples"
      ],
      "metadata": {
        "colab": {
          "base_uri": "https://localhost:8080/"
        },
        "id": "JvDSNMIq75Wz",
        "outputId": "01d3bcf7-5d91-48e7-fd25-01596a94c71d"
      },
      "execution_count": 10,
      "outputs": [
        {
          "output_type": "stream",
          "name": "stdout",
          "text": [
            "Using GPU for training\n",
            "Downloading http://codh.rois.ac.jp/kmnist/dataset/kmnist/train-images-idx3-ubyte.gz\n",
            "Downloading http://codh.rois.ac.jp/kmnist/dataset/kmnist/train-images-idx3-ubyte.gz to ./data/KMNIST/raw/train-images-idx3-ubyte.gz\n",
            "18165760it [00:03, 5903778.12it/s]                  \n",
            "Extracting ./data/KMNIST/raw/train-images-idx3-ubyte.gz to ./data/KMNIST/raw\n",
            "\n",
            "Downloading http://codh.rois.ac.jp/kmnist/dataset/kmnist/train-labels-idx1-ubyte.gz\n",
            "Downloading http://codh.rois.ac.jp/kmnist/dataset/kmnist/train-labels-idx1-ubyte.gz to ./data/KMNIST/raw/train-labels-idx1-ubyte.gz\n",
            "29696it [00:00, 230046.88it/s]               \n",
            "Extracting ./data/KMNIST/raw/train-labels-idx1-ubyte.gz to ./data/KMNIST/raw\n",
            "\n",
            "Downloading http://codh.rois.ac.jp/kmnist/dataset/kmnist/t10k-images-idx3-ubyte.gz\n",
            "Downloading http://codh.rois.ac.jp/kmnist/dataset/kmnist/t10k-images-idx3-ubyte.gz to ./data/KMNIST/raw/t10k-images-idx3-ubyte.gz\n",
            "3041280it [00:01, 2885617.25it/s]                 \n",
            "Extracting ./data/KMNIST/raw/t10k-images-idx3-ubyte.gz to ./data/KMNIST/raw\n",
            "\n",
            "Downloading http://codh.rois.ac.jp/kmnist/dataset/kmnist/t10k-labels-idx1-ubyte.gz\n",
            "Downloading http://codh.rois.ac.jp/kmnist/dataset/kmnist/t10k-labels-idx1-ubyte.gz to ./data/KMNIST/raw/t10k-labels-idx1-ubyte.gz\n",
            "100% 5120/5120 [00:00<00:00, 16380500.75it/s]\n",
            "Extracting ./data/KMNIST/raw/t10k-labels-idx1-ubyte.gz to ./data/KMNIST/raw\n",
            "\n",
            "Start Training ...\n",
            "  0% 0/10 [00:00<?, ?it/s]epoch: 0, train_loss: 0.2987055510178208, train_acc: 90.79%, test_loss: 0.4355387561047039, test_acc: 87.20%\n",
            " 10% 1/10 [00:17<02:39, 17.77s/it]epoch: 1, train_loss: 0.13664524898305536, train_acc: 95.83%, test_loss: 0.3487543092844204, test_acc: 90.19%\n",
            " 20% 2/10 [00:35<02:21, 17.73s/it]epoch: 2, train_loss: 0.0959076171686252, train_acc: 97.15%, test_loss: 0.32906969675954917, test_acc: 90.79%\n",
            " 30% 3/10 [00:53<02:03, 17.69s/it]epoch: 3, train_loss: 0.07258511047170808, train_acc: 97.90%, test_loss: 0.3274653834757951, test_acc: 91.31%\n",
            " 40% 4/10 [01:10<01:45, 17.65s/it]epoch: 4, train_loss: 0.055499433224803454, train_acc: 98.43%, test_loss: 0.32460778087567976, test_acc: 91.81%\n",
            " 50% 5/10 [01:28<01:28, 17.63s/it]epoch: 5, train_loss: 0.04266802887218073, train_acc: 98.86%, test_loss: 0.35295769344931976, test_acc: 91.30%\n",
            " 60% 6/10 [01:45<01:10, 17.63s/it]epoch: 6, train_loss: 0.0329802758299862, train_acc: 99.19%, test_loss: 0.36694907452078007, test_acc: 91.31%\n",
            " 70% 7/10 [02:03<00:52, 17.62s/it]epoch: 7, train_loss: 0.025249375873955433, train_acc: 99.38%, test_loss: 0.3885324331604468, test_acc: 91.13%\n",
            " 80% 8/10 [02:21<00:35, 17.61s/it]epoch: 8, train_loss: 0.01871827919469797, train_acc: 99.61%, test_loss: 0.39789381179179006, test_acc: 91.22%\n",
            " 90% 9/10 [02:38<00:17, 17.64s/it]epoch: 9, train_loss: 0.013558927349294148, train_acc: 99.77%, test_loss: 0.38989509497813807, test_acc: 91.89%\n",
            "100% 10/10 [02:56<00:00, 17.64s/it]\n",
            "Saving model ...\n"
          ]
        }
      ]
    },
    {
      "cell_type": "markdown",
      "source": [
        "# Fashion MNIST"
      ],
      "metadata": {
        "id": "sio02VCzlMEx"
      }
    },
    {
      "cell_type": "code",
      "source": [
        "!python3 train.py --model mnist_cnn --dataset fashion_mnist --epochs 10 --lr 0.1 --save-model --gpu --dashboard --url $URL_DASHBOARD --samples"
      ],
      "metadata": {
        "colab": {
          "base_uri": "https://localhost:8080/"
        },
        "id": "D7y1tnmu9pjO",
        "outputId": "28c9d614-c761-4db0-875a-19c408154336"
      },
      "execution_count": 12,
      "outputs": [
        {
          "output_type": "stream",
          "name": "stdout",
          "text": [
            "Using GPU for training\n",
            "Downloading http://fashion-mnist.s3-website.eu-central-1.amazonaws.com/train-images-idx3-ubyte.gz\n",
            "Downloading http://fashion-mnist.s3-website.eu-central-1.amazonaws.com/train-images-idx3-ubyte.gz to ./data/FashionMNIST/raw/train-images-idx3-ubyte.gz\n",
            "26422272it [00:01, 14384110.52it/s]                  \n",
            "Extracting ./data/FashionMNIST/raw/train-images-idx3-ubyte.gz to ./data/FashionMNIST/raw\n",
            "\n",
            "Downloading http://fashion-mnist.s3-website.eu-central-1.amazonaws.com/train-labels-idx1-ubyte.gz\n",
            "Downloading http://fashion-mnist.s3-website.eu-central-1.amazonaws.com/train-labels-idx1-ubyte.gz to ./data/FashionMNIST/raw/train-labels-idx1-ubyte.gz\n",
            "29696it [00:00, 276611.59it/s]               \n",
            "Extracting ./data/FashionMNIST/raw/train-labels-idx1-ubyte.gz to ./data/FashionMNIST/raw\n",
            "\n",
            "Downloading http://fashion-mnist.s3-website.eu-central-1.amazonaws.com/t10k-images-idx3-ubyte.gz\n",
            "Downloading http://fashion-mnist.s3-website.eu-central-1.amazonaws.com/t10k-images-idx3-ubyte.gz to ./data/FashionMNIST/raw/t10k-images-idx3-ubyte.gz\n",
            "4422656it [00:00, 5194765.95it/s]                 \n",
            "Extracting ./data/FashionMNIST/raw/t10k-images-idx3-ubyte.gz to ./data/FashionMNIST/raw\n",
            "\n",
            "Downloading http://fashion-mnist.s3-website.eu-central-1.amazonaws.com/t10k-labels-idx1-ubyte.gz\n",
            "Downloading http://fashion-mnist.s3-website.eu-central-1.amazonaws.com/t10k-labels-idx1-ubyte.gz to ./data/FashionMNIST/raw/t10k-labels-idx1-ubyte.gz\n",
            "6144it [00:00, 19611722.81it/s]\n",
            "Extracting ./data/FashionMNIST/raw/t10k-labels-idx1-ubyte.gz to ./data/FashionMNIST/raw\n",
            "\n",
            "Preparing Dashboard Logger\n",
            "Start Training ...\n",
            "  0% 0/10 [00:00<?, ?it/s]epoch: 0, train_loss: 0.4784349623521169, train_acc: 82.65%, test_loss: 0.39494712636493645, test_acc: 85.68%\n",
            " 10% 1/10 [00:18<02:43, 18.20s/it]epoch: 1, train_loss: 0.3522782737731934, train_acc: 87.21%, test_loss: 0.3580598218705707, test_acc: 87.04%\n",
            " 20% 2/10 [00:36<02:25, 18.22s/it]epoch: 2, train_loss: 0.3106879381120205, train_acc: 88.61%, test_loss: 0.3496632554803413, test_acc: 87.40%\n",
            " 30% 3/10 [00:54<02:07, 18.23s/it]epoch: 3, train_loss: 0.2828448996881644, train_acc: 89.68%, test_loss: 0.3477954333439803, test_acc: 87.83%\n",
            " 40% 4/10 [01:12<01:49, 18.26s/it]epoch: 4, train_loss: 0.2617688359061877, train_acc: 90.43%, test_loss: 0.35229607003803454, test_acc: 87.68%\n",
            " 50% 5/10 [01:31<01:32, 18.40s/it]epoch: 5, train_loss: 0.24463727178474268, train_acc: 91.17%, test_loss: 0.3633625298714676, test_acc: 87.50%\n",
            " 60% 6/10 [01:49<01:13, 18.34s/it]epoch: 6, train_loss: 0.230123455987374, train_acc: 91.67%, test_loss: 0.35037125576846895, test_acc: 88.43%\n",
            " 70% 7/10 [02:08<00:54, 18.30s/it]epoch: 7, train_loss: 0.2180643361657858, train_acc: 92.18%, test_loss: 0.35490241857430044, test_acc: 88.42%\n",
            " 80% 8/10 [02:26<00:36, 18.38s/it]epoch: 8, train_loss: 0.20609041477839152, train_acc: 92.64%, test_loss: 0.3620673724280569, test_acc: 88.10%\n",
            " 90% 9/10 [02:45<00:18, 18.49s/it]epoch: 9, train_loss: 0.1963312556674083, train_acc: 92.97%, test_loss: 0.3762962531845886, test_acc: 88.19%\n",
            "100% 10/10 [03:03<00:00, 18.36s/it]\n",
            "Saving model ...\n"
          ]
        }
      ]
    },
    {
      "cell_type": "markdown",
      "source": [
        "# CIFAR10"
      ],
      "metadata": {
        "id": "BPqbaZpglOnx"
      }
    },
    {
      "cell_type": "code",
      "source": [
        "!python3 train.py --model cifar10_cnn --dataset cifar10 --epochs 10 --lr 0.1 --save-model --gpu --dashboard --url $URL_DASHBOARD --samples"
      ],
      "metadata": {
        "colab": {
          "base_uri": "https://localhost:8080/"
        },
        "id": "uSjQYonz-9SU",
        "outputId": "9422edc4-dc68-4013-a4cd-07eddaec3e6a"
      },
      "execution_count": 13,
      "outputs": [
        {
          "output_type": "stream",
          "name": "stdout",
          "text": [
            "Using GPU for training\n",
            "Downloading https://www.cs.toronto.edu/~kriz/cifar-10-python.tar.gz to ./data/cifar-10-python.tar.gz\n",
            "170499072it [00:02, 77928019.48it/s]                   \n",
            "Extracting ./data/cifar-10-python.tar.gz to ./data/\n",
            "Files already downloaded and verified\n",
            "Files already downloaded and verified\n",
            "Preparing Dashboard Logger\n",
            "Start Training ...\n",
            "  0% 0/10 [00:00<?, ?it/s]epoch: 0, train_loss: 1.4060434536604414, train_acc: 49.68%, test_loss: 1.1860438425320026, test_acc: 57.76%\n",
            " 10% 1/10 [00:30<04:37, 30.78s/it]epoch: 1, train_loss: 1.1216317036940513, train_acc: 60.56%, test_loss: 1.0802833272245365, test_acc: 62.32%\n",
            " 20% 2/10 [01:01<04:07, 30.94s/it]epoch: 2, train_loss: 1.01874214963736, train_acc: 64.32%, test_loss: 0.9514389129492421, test_acc: 66.99%\n",
            " 30% 3/10 [01:32<03:37, 31.03s/it]epoch: 3, train_loss: 0.9630894311825892, train_acc: 66.44%, test_loss: 1.0634216478647895, test_acc: 63.80%\n",
            " 40% 4/10 [02:03<03:05, 30.86s/it]epoch: 4, train_loss: 0.9226600089594865, train_acc: 67.79%, test_loss: 0.8751964806177365, test_acc: 69.79%\n",
            " 50% 5/10 [02:36<02:38, 31.66s/it]epoch: 5, train_loss: 0.888722512234653, train_acc: 69.02%, test_loss: 0.8772429170699927, test_acc: 70.16%\n",
            " 60% 6/10 [03:10<02:08, 32.25s/it]epoch: 6, train_loss: 0.8636928959985002, train_acc: 70.04%, test_loss: 0.8207068424255323, test_acc: 71.70%\n",
            " 70% 7/10 [03:40<01:35, 31.76s/it]epoch: 7, train_loss: 0.8439717165987536, train_acc: 70.99%, test_loss: 0.8157913479180382, test_acc: 71.82%\n",
            " 80% 8/10 [04:11<01:02, 31.45s/it]epoch: 8, train_loss: 0.8290027002264732, train_acc: 71.00%, test_loss: 0.8274580467813692, test_acc: 72.44%\n",
            " 90% 9/10 [04:42<00:31, 31.38s/it]epoch: 9, train_loss: 0.8144037231793406, train_acc: 71.70%, test_loss: 0.8115481929466747, test_acc: 72.23%\n",
            "100% 10/10 [05:13<00:00, 31.35s/it]\n",
            "Saving model ...\n",
            "Generating Sample Images Test\n"
          ]
        }
      ]
    },
    {
      "cell_type": "markdown",
      "source": [
        "# CIFAR100"
      ],
      "metadata": {
        "id": "EKsuEa_9lQxI"
      }
    },
    {
      "cell_type": "code",
      "source": [
        "!python3 train.py --model cifar100_cnn --dataset cifar100 --epochs 10 --lr 0.1 \\\n",
        " --save-model --gpu --dashboard --url $URL_DASHBOARD --samples --sched step --step-size 5"
      ],
      "metadata": {
        "colab": {
          "base_uri": "https://localhost:8080/"
        },
        "id": "SyvJPznLBHy9",
        "outputId": "e84ee292-05f3-40b0-8dc5-353f6061b39f"
      },
      "execution_count": 14,
      "outputs": [
        {
          "output_type": "stream",
          "name": "stdout",
          "text": [
            "Using GPU for training\n",
            "Downloading https://www.cs.toronto.edu/~kriz/cifar-100-python.tar.gz to ./data/cifar-100-python.tar.gz\n",
            "169001984it [00:02, 71754783.06it/s]                   \n",
            "Extracting ./data/cifar-100-python.tar.gz to ./data/\n",
            "Files already downloaded and verified\n",
            "Files already downloaded and verified\n",
            "Preparing Dashboard Logger\n",
            "Start Training ...\n",
            "  0% 0/10 [00:00<?, ?it/s]epoch: 0, train_loss: 3.531192141927669, train_acc: 16.59%, test_loss: 3.1886927609245617, test_acc: 22.27%\n",
            " 10% 1/10 [00:30<04:35, 30.58s/it]epoch: 1, train_loss: 2.962832086908459, train_acc: 27.10%, test_loss: 2.8694387815249995, test_acc: 29.02%\n",
            " 20% 2/10 [01:01<04:05, 30.69s/it]epoch: 2, train_loss: 2.7383474313671283, train_acc: 31.91%, test_loss: 2.674776931540273, test_acc: 32.91%\n",
            " 30% 3/10 [01:31<03:34, 30.64s/it]epoch: 3, train_loss: 2.608910726417888, train_acc: 34.43%, test_loss: 2.6379383771945113, test_acc: 33.79%\n",
            " 40% 4/10 [02:02<03:04, 30.73s/it]epoch: 4, train_loss: 2.5185749691720964, train_acc: 36.30%, test_loss: 2.4921835599996793, test_acc: 36.64%\n",
            " 50% 5/10 [02:33<02:33, 30.69s/it]epoch: 5, train_loss: 2.304238765268698, train_acc: 41.25%, test_loss: 2.3239402096873274, test_acc: 40.66%\n",
            " 60% 6/10 [03:04<02:03, 30.79s/it]epoch: 6, train_loss: 2.266937986063942, train_acc: 42.06%, test_loss: 2.2987697859541676, test_acc: 41.26%\n",
            " 70% 7/10 [03:35<01:32, 30.92s/it]epoch: 7, train_loss: 2.249951807566354, train_acc: 42.22%, test_loss: 2.2860292253402856, test_acc: 41.54%\n",
            " 80% 8/10 [04:06<01:02, 31.08s/it]epoch: 8, train_loss: 2.2366564975513987, train_acc: 42.64%, test_loss: 2.2788978327577487, test_acc: 41.51%\n",
            " 90% 9/10 [04:37<00:31, 31.04s/it]epoch: 9, train_loss: 2.2229999809484795, train_acc: 42.63%, test_loss: 2.2660529941034775, test_acc: 41.81%\n",
            "100% 10/10 [05:08<00:00, 30.87s/it]\n",
            "Saving model ...\n",
            "Generating Sample Images Test\n"
          ]
        }
      ]
    },
    {
      "cell_type": "markdown",
      "source": [
        "# Dogs"
      ],
      "metadata": {
        "id": "gCBUPUiDlSs9"
      }
    },
    {
      "cell_type": "code",
      "source": [
        "!kaggle datasets download gpiosenka/70-dog-breedsimage-data-set\n",
        "!unzip 70-dog-breedsimage-data-set.zip"
      ],
      "metadata": {
        "id": "vuc79AjtErPn"
      },
      "execution_count": null,
      "outputs": []
    },
    {
      "cell_type": "code",
      "source": [
        "!mkdir dogs_ds\n",
        "!mv train dogs_ds/ \n",
        "!mv test dogs_ds/ \n",
        "!mv valid dogs_ds/"
      ],
      "metadata": {
        "id": "TFzMmW_9EzyJ"
      },
      "execution_count": 16,
      "outputs": []
    },
    {
      "cell_type": "code",
      "source": [
        "!python3 train.py --model simple_general_cnn --dataset image_folder --num-classes 70 --save-labels \\\n",
        " --epochs 15 --lr 0.1 --save-model --root ./dogs_ds --gpu --dashboard --url $URL_DASHBOARD --samples --sched step --step-size 5"
      ],
      "metadata": {
        "colab": {
          "base_uri": "https://localhost:8080/"
        },
        "id": "m3_EBkhBFDrz",
        "outputId": "e7bb389f-e7b8-48e5-cab3-4945a09ca070"
      },
      "execution_count": 17,
      "outputs": [
        {
          "output_type": "stream",
          "name": "stdout",
          "text": [
            "Using GPU for training\n",
            "Preparing Dashboard Logger\n",
            "Start Training ...\n",
            "  0% 0/15 [00:00<?, ?it/s]epoch: 0, train_loss: 3.6597879660656174, train_acc: 9.80%, test_loss: 4.040311271494085, test_acc: 5.57%\n",
            "  7% 1/15 [00:28<06:43, 28.84s/it]epoch: 1, train_loss: 3.190575834258972, train_acc: 17.95%, test_loss: 3.89579899744554, test_acc: 10.71%\n",
            " 13% 2/15 [00:57<06:15, 28.91s/it]epoch: 2, train_loss: 2.8825617018473677, train_acc: 24.50%, test_loss: 3.1486154252832588, test_acc: 19.29%\n",
            " 20% 3/15 [01:27<05:52, 29.37s/it]epoch: 3, train_loss: 2.612796443533227, train_acc: 29.95%, test_loss: 3.1422448375008325, test_acc: 21.00%\n",
            " 27% 4/15 [01:55<05:18, 28.93s/it]epoch: 4, train_loss: 2.399814885782908, train_acc: 35.87%, test_loss: 2.603429691358046, test_acc: 28.14%\n",
            " 33% 5/15 [02:24<04:48, 28.86s/it]epoch: 5, train_loss: 2.0415976837456946, train_acc: 45.17%, test_loss: 1.9829412536187605, test_acc: 46.29%\n",
            " 40% 6/15 [02:54<04:21, 29.10s/it]epoch: 6, train_loss: 1.9219578437537075, train_acc: 48.98%, test_loss: 1.8940908800471912, test_acc: 47.86%\n",
            " 47% 7/15 [03:23<03:52, 29.05s/it]epoch: 7, train_loss: 1.871732734293344, train_acc: 49.89%, test_loss: 1.9013482223857532, test_acc: 48.00%\n",
            " 53% 8/15 [03:52<03:23, 29.01s/it]epoch: 8, train_loss: 1.8277983119688839, train_acc: 51.06%, test_loss: 1.8683225458318538, test_acc: 48.29%\n",
            " 60% 9/15 [04:20<02:53, 28.95s/it]epoch: 9, train_loss: 1.7830446896304089, train_acc: 52.64%, test_loss: 1.8212793469429016, test_acc: 48.71%\n",
            " 67% 10/15 [04:49<02:24, 28.98s/it]epoch: 10, train_loss: 1.7397159424172826, train_acc: 53.54%, test_loss: 1.7948658087036826, test_acc: 50.14%\n",
            " 73% 11/15 [05:18<01:55, 28.93s/it]epoch: 11, train_loss: 1.718646791086618, train_acc: 54.09%, test_loss: 1.7824556231498718, test_acc: 50.86%\n",
            " 80% 12/15 [05:47<01:26, 28.86s/it]epoch: 12, train_loss: 1.7069149857544037, train_acc: 54.30%, test_loss: 1.7959523417732932, test_acc: 50.43%\n",
            " 87% 13/15 [06:16<00:57, 28.84s/it]epoch: 13, train_loss: 1.698354577922438, train_acc: 54.28%, test_loss: 1.77793241630901, test_acc: 50.43%\n",
            " 93% 14/15 [06:45<00:28, 28.80s/it]epoch: 14, train_loss: 1.6966831765500416, train_acc: 54.32%, test_loss: 1.7792860161174426, test_acc: 50.57%\n",
            "100% 15/15 [07:13<00:00, 28.91s/it]\n",
            "Saving model ...\n",
            "Generating Sample Images Test\n"
          ]
        }
      ]
    },
    {
      "cell_type": "code",
      "source": [
        "!python3 test.py --model simple_general_cnn --dataset image_folder --root ./dogs_ds --num-classes 70 \\\n",
        " --gpu --samples --dashboard --url $URL_DASHBOARD --model-path ./trained_models/dogs_breeds_cnn.ckpt"
      ],
      "metadata": {
        "colab": {
          "base_uri": "https://localhost:8080/"
        },
        "id": "rC0zz0V1LRkW",
        "outputId": "c5fb1723-7ee3-4696-a15d-f4a905c9d91f"
      },
      "execution_count": 19,
      "outputs": [
        {
          "output_type": "stream",
          "name": "stdout",
          "text": [
            "Using GPU for testing\n",
            "Start Testing ...\n",
            "train_loss: 1.6283955837349335, train_acc: 56.25%, test_loss: 1.7769755992022427, test_acc: 50.57%\n",
            "Preparing Dashboard Logger\n",
            "Generating Sample Images Test\n"
          ]
        }
      ]
    },
    {
      "cell_type": "markdown",
      "source": [
        "# Chinese MNIST"
      ],
      "metadata": {
        "id": "CsJxQSbMlVBY"
      }
    },
    {
      "cell_type": "code",
      "source": [
        "!kaggle datasets download fedesoriano/chinese-mnist-digit-recognizer\n",
        "!unzip chinese-mnist-digit-recognizer.zip"
      ],
      "metadata": {
        "id": "mD_tYcoKN67q",
        "colab": {
          "base_uri": "https://localhost:8080/"
        },
        "outputId": "6658927f-4b34-4ecf-db9d-6c45c9d9582e"
      },
      "execution_count": 20,
      "outputs": [
        {
          "output_type": "stream",
          "name": "stdout",
          "text": [
            "Downloading chinese-mnist-digit-recognizer.zip to /content/pytorch_trainer\n",
            "\r  0% 0.00/7.81M [00:00<?, ?B/s]\n",
            "\r100% 7.81M/7.81M [00:00<00:00, 72.1MB/s]\n",
            "Archive:  chinese-mnist-digit-recognizer.zip\n",
            "  inflating: chineseMNIST.csv        \n"
          ]
        }
      ]
    },
    {
      "cell_type": "code",
      "source": [
        "code_ = \"\"\"\n",
        "import pandas as pd\n",
        "import torch\n",
        "from sklearn.model_selection import train_test_split\n",
        "import numpy as np\n",
        "from models import simple_conv_block\n",
        "import torch.nn as nn\n",
        "\n",
        "\n",
        "def create_model_customize(args):\n",
        "  model = nn.Sequential(\n",
        "    simple_conv_block(1,16,3,padding=1),\n",
        "    simple_conv_block(16,32,3,padding=1),\n",
        "    simple_conv_block(32,64,3,padding=1),\n",
        "    simple_conv_block(64,64,3,padding=1),\n",
        "    simple_conv_block(64,128,3,padding=1),\n",
        "    simple_conv_block(128,128,3,padding=1),\n",
        "    nn.Flatten(),\n",
        "    nn.Linear(128,15)\n",
        "  )\n",
        "  return model\n",
        "\n",
        "def create_dataloader_customize(args):\n",
        "  df = pd.read_csv(\"chineseMNIST.csv\")\n",
        "  data_ = df.to_numpy()\n",
        "  x = data_[:,:-2].astype(np.float64) / 255.0\n",
        "  x = x.reshape((-1,1,64,64))\n",
        "  labels_ = data_[:,-1]\n",
        "  labels = list(set(labels_))\n",
        "  label_to_idx = {k:v for v,k in enumerate(labels)}\n",
        "  y = np.array([label_to_idx[k] for k in labels_])\n",
        "\n",
        "  x_train, x_test, y_train, y_test = train_test_split(x,y,train_size=0.9)\n",
        "  x_train = torch.from_numpy(x_train).float()\n",
        "  x_test = torch.from_numpy(x_test).float()\n",
        "  y_train = torch.from_numpy(y_train).long()\n",
        "  y_test = torch.from_numpy(y_test).long()\n",
        "\n",
        "  train_ds = torch.utils.data.TensorDataset(x_train, y_train)\n",
        "  test_ds = torch.utils.data.TensorDataset(x_test,y_test)\n",
        "  train_dl = torch.utils.data.DataLoader(train_ds,batch_size=32)\n",
        "  test_dl = torch.utils.data.DataLoader(test_ds,batch_size=32)\n",
        "\n",
        "  extra_info={\"labels\":labels, \"image_shape\":(1,64,64)}\n",
        "\n",
        "  return train_dl, test_dl, test_ds, test_ds, extra_info\n",
        "\"\"\"\n",
        "with open(\"customize.py\",\"w\") as f:\n",
        "  f.write(code_)"
      ],
      "metadata": {
        "id": "kAW-4URldgWb"
      },
      "execution_count": 47,
      "outputs": []
    },
    {
      "cell_type": "code",
      "source": [
        "!python3 train.py --customize --gpu --epochs 10 --lr 0.1 --save-model --save-labels \\\n",
        " --num-classes 15 --dashboard --url $URL_DASHBOARD --samples --landscape --checkpoint 1"
      ],
      "metadata": {
        "id": "x0LsfU1xl-VI",
        "colab": {
          "base_uri": "https://localhost:8080/"
        },
        "outputId": "422d55de-c781-437e-f884-ea68146c3774"
      },
      "execution_count": 48,
      "outputs": [
        {
          "output_type": "stream",
          "name": "stdout",
          "text": [
            "Using GPU for training\n",
            "Preparing Dashboard Logger\n",
            "Start Training ...\n",
            "  0% 0/10 [00:00<?, ?it/s]epoch: 0, train_loss: 0.5815218123850099, train_acc: 80.82%, test_loss: 0.1809133826259603, test_acc: 94.40%\n",
            " 10% 1/10 [00:09<01:24,  9.38s/it]epoch: 1, train_loss: 0.08826812118693515, train_acc: 97.19%, test_loss: 0.05045411120505726, test_acc: 98.80%\n",
            " 20% 2/10 [00:18<01:14,  9.36s/it]epoch: 2, train_loss: 0.031266935000867004, train_acc: 99.21%, test_loss: 0.03028478771646289, test_acc: 99.13%\n",
            " 30% 3/10 [00:28<01:05,  9.42s/it]epoch: 3, train_loss: 0.01405212772485714, train_acc: 99.71%, test_loss: 0.07178138980166392, test_acc: 97.60%\n",
            " 40% 4/10 [00:37<00:56,  9.43s/it]epoch: 4, train_loss: 0.007875656834938696, train_acc: 99.87%, test_loss: 0.01946373083665868, test_acc: 99.33%\n",
            " 50% 5/10 [00:47<00:47,  9.43s/it]epoch: 5, train_loss: 0.0025412466459986487, train_acc: 99.99%, test_loss: 0.017929341868519723, test_acc: 99.47%\n",
            " 60% 6/10 [00:56<00:37,  9.43s/it]epoch: 6, train_loss: 0.0009497679825062517, train_acc: 100.00%, test_loss: 0.016635734775379805, test_acc: 99.53%\n",
            " 70% 7/10 [01:05<00:28,  9.44s/it]epoch: 7, train_loss: 0.0006843280548460714, train_acc: 100.00%, test_loss: 0.016145298375743144, test_acc: 99.47%\n",
            " 80% 8/10 [01:15<00:18,  9.45s/it]epoch: 8, train_loss: 0.0005522054745330171, train_acc: 100.00%, test_loss: 0.01601094025202056, test_acc: 99.47%\n",
            " 90% 9/10 [01:24<00:09,  9.43s/it]epoch: 9, train_loss: 0.0004647465797616511, train_acc: 100.00%, test_loss: 0.015986307784531046, test_acc: 99.47%\n",
            "100% 10/10 [01:34<00:00,  9.42s/it]\n",
            "Saving model ...\n",
            "Generating Sample Images Test\n",
            "Generating Landscape\n",
            "Traceback (most recent call last):\n",
            "  File \"train.py\", line 91, in <module>\n",
            "    [-5, 5], [-5, 5], 10, dev)\n",
            "  File \"/content/pytorch_trainer/utils.py\", line 177, in landscape\n",
            "    proj_checkpoints = np.array(proj_checkpoints)\n",
            "  File \"/usr/local/lib/python3.7/dist-packages/torch/_tensor.py\", line 678, in __array__\n",
            "    return self.numpy()\n",
            "TypeError: can't convert cuda:0 device type tensor to numpy. Use Tensor.cpu() to copy the tensor to host memory first.\n"
          ]
        }
      ]
    },
    {
      "cell_type": "code",
      "source": [
        "!python3 test.py --customize --gpu --model-path ./trained_models/chinese_digits_cnn.ckpt --num-classes 15 --dashboard --url $URL_DASHBOARD --samples --landscape"
      ],
      "metadata": {
        "colab": {
          "base_uri": "https://localhost:8080/"
        },
        "id": "SiP_RzKCCOIi",
        "outputId": "6b3e5d79-deef-40e9-c867-f5aed8d70d21"
      },
      "execution_count": 49,
      "outputs": [
        {
          "output_type": "stream",
          "name": "stdout",
          "text": [
            "Using GPU for testing\n",
            "Start Testing ...\n",
            "train_loss: 18.439966072968396, train_acc: 0.00%, test_loss: 18.382310055671855, test_acc: 0.00%\n",
            "Preparing Dashboard Logger\n",
            "Generating Sample Images Test\n",
            "Generating Landscape\n"
          ]
        }
      ]
    },
    {
      "cell_type": "markdown",
      "source": [
        "# Flowers"
      ],
      "metadata": {
        "id": "nNNNuF8LlfHJ"
      }
    },
    {
      "cell_type": "code",
      "source": [
        "!kaggle datasets download nunenuh/pytorch-challange-flower-dataset\n",
        "!unzip pytorch-challange-flower-dataset.zip"
      ],
      "metadata": {
        "id": "Quiv_Tv59Ye_"
      },
      "execution_count": null,
      "outputs": []
    },
    {
      "cell_type": "code",
      "source": [
        "!mv dataset/test dataset/unknown\n",
        "!mv dataset/valid dataset/test\n",
        "!mv dataset flowers_ds"
      ],
      "metadata": {
        "id": "bLsiSaIQ-Zfd"
      },
      "execution_count": 51,
      "outputs": []
    },
    {
      "cell_type": "code",
      "source": [
        "!python3 train.py --dataset image_folder --model simple_general_cnn --root ./flowers_ds --num-classes 102 \\\n",
        " --save-labels --save-model --checkpoint 1 --gpu --dashboard --samples --url $URL_DASHBOARD"
      ],
      "metadata": {
        "colab": {
          "base_uri": "https://localhost:8080/"
        },
        "id": "bLlkiXu59sWE",
        "outputId": "d99f05ff-a3e5-4366-8d96-1f9ee909fe7e"
      },
      "execution_count": 52,
      "outputs": [
        {
          "output_type": "stream",
          "name": "stdout",
          "text": [
            "Using GPU for training\n",
            "Preparing Dashboard Logger\n",
            "Start Training ...\n",
            "  0% 0/10 [00:00<?, ?it/s]epoch: 0, train_loss: 3.589992478998696, train_acc: 16.06%, test_loss: 3.1390783419975867, test_acc: 23.11%\n",
            " 10% 1/10 [01:00<09:08, 60.99s/it]epoch: 1, train_loss: 2.7240064934986394, train_acc: 30.01%, test_loss: 2.5032826570364146, test_acc: 33.13%\n",
            " 20% 2/10 [02:01<08:07, 60.89s/it]epoch: 2, train_loss: 2.2472163014295625, train_acc: 40.31%, test_loss: 2.01016995540032, test_acc: 48.29%\n",
            " 30% 3/10 [03:02<07:05, 60.78s/it]epoch: 3, train_loss: 1.915714826234957, train_acc: 48.60%, test_loss: 2.0120963958593516, test_acc: 45.11%\n",
            " 40% 4/10 [04:03<06:04, 60.79s/it]epoch: 4, train_loss: 1.6471816621175626, train_acc: 55.45%, test_loss: 1.7868726941255422, test_acc: 51.59%\n",
            " 50% 5/10 [05:04<05:04, 60.98s/it]epoch: 5, train_loss: 1.4562661522772253, train_acc: 60.09%, test_loss: 1.7408875639622028, test_acc: 52.81%\n",
            " 60% 6/10 [06:05<04:04, 61.00s/it]epoch: 6, train_loss: 1.3011806932891288, train_acc: 63.92%, test_loss: 1.6093542117338915, test_acc: 55.62%\n",
            " 70% 7/10 [07:06<03:03, 61.11s/it]epoch: 7, train_loss: 1.1650182348925893, train_acc: 67.37%, test_loss: 1.396964355156972, test_acc: 61.86%\n",
            " 80% 8/10 [08:08<02:02, 61.13s/it]epoch: 8, train_loss: 1.0408584040839497, train_acc: 70.70%, test_loss: 1.4632296447570508, test_acc: 60.88%\n",
            " 90% 9/10 [09:09<01:01, 61.16s/it]epoch: 9, train_loss: 0.9451261907089047, train_acc: 73.57%, test_loss: 1.4461566049319048, test_acc: 59.17%\n",
            "100% 10/10 [10:10<00:00, 61.04s/it]\n",
            "Saving model ...\n",
            "Generating Sample Images Test\n"
          ]
        }
      ]
    },
    {
      "cell_type": "markdown",
      "source": [
        "# Tiny Imagenet 200"
      ],
      "metadata": {
        "id": "gMFhtGfQlX7X"
      }
    },
    {
      "cell_type": "code",
      "source": [
        "!kaggle datasets download akash2sharma/tiny-imagenet\n",
        "!unzip tiny-imagenet.zip"
      ],
      "metadata": {
        "id": "hmzO7-D9Cfr1"
      },
      "execution_count": null,
      "outputs": []
    },
    {
      "cell_type": "code",
      "source": [
        "!mv tiny-imagenet-200/test tiny-imagenet-200/mytest"
      ],
      "metadata": {
        "id": "1h42dW52WIJd"
      },
      "execution_count": 59,
      "outputs": []
    },
    {
      "cell_type": "code",
      "source": [
        "!mkdir tiny-imagenet-200/test"
      ],
      "metadata": {
        "id": "vyHELE85W2M2"
      },
      "execution_count": 60,
      "outputs": []
    },
    {
      "cell_type": "code",
      "source": [
        "import os\n",
        "import math\n",
        "import numpy as np \n",
        "for elem in os.listdir(\"tiny-imagenet-200/train\"):\n",
        "  os.system(f\"rm tiny-imagenet-200/train/{elem}/{elem}_boxes.txt\")\n",
        "  os.system(f\"mkdir tiny-imagenet-200/test/{elem}\")\n",
        "  for img in os.listdir(f\"tiny-imagenet-200/train/{elem}/images\"):\n",
        "    p = np.random.random()\n",
        "    if p < 0.25:\n",
        "      os.system(f\"cp tiny-imagenet-200/train/{elem}/images/{img} tiny-imagenet-200/test/{elem}/\")"
      ],
      "metadata": {
        "id": "aMny19gyWvAR"
      },
      "execution_count": 61,
      "outputs": []
    },
    {
      "cell_type": "code",
      "source": [
        "!python3 train.py --dataset image_folder --model simple_general_cnn --root ./tiny-imagenet-200/ --num-classes 200 \\\n",
        " --save-labels --save-model --checkpoint 1 --gpu --dashboard --samples --url $URL_DASHBOARD"
      ],
      "metadata": {
        "id": "5qtn_-WgaieA",
        "colab": {
          "base_uri": "https://localhost:8080/"
        },
        "outputId": "19e42848-868f-49d6-ecfe-1ac78e785941"
      },
      "execution_count": 62,
      "outputs": [
        {
          "output_type": "stream",
          "name": "stdout",
          "text": [
            "Using GPU for training\n",
            "Preparing Dashboard Logger\n",
            "Start Training ...\n",
            "  0% 0/10 [00:00<?, ?it/s]epoch: 0, train_loss: 4.370503801422119, train_acc: 9.78%, test_loss: 3.8610963100042097, test_acc: 15.80%\n",
            " 10% 1/10 [04:22<39:26, 262.89s/it]epoch: 1, train_loss: 3.758357893447876, train_acc: 18.06%, test_loss: 3.5234930891257066, test_acc: 22.16%\n",
            " 20% 2/10 [08:44<34:55, 261.91s/it]epoch: 2, train_loss: 3.514995898590088, train_acc: 22.15%, test_loss: 3.2567674804956486, test_acc: 26.43%\n",
            " 30% 3/10 [13:05<30:30, 261.46s/it]epoch: 3, train_loss: 3.3611180463409425, train_acc: 24.92%, test_loss: 3.104315792902922, test_acc: 29.11%\n",
            " 40% 4/10 [17:26<26:08, 261.40s/it]epoch: 4, train_loss: 3.255534739303589, train_acc: 26.67%, test_loss: 3.0480549185703962, test_acc: 30.37%\n",
            " 50% 5/10 [21:48<21:48, 261.71s/it]epoch: 5, train_loss: 3.1775206327056886, train_acc: 28.25%, test_loss: 2.9871221643227797, test_acc: 31.11%\n",
            " 60% 6/10 [26:10<17:26, 261.73s/it]epoch: 6, train_loss: 3.1129023603820802, train_acc: 29.11%, test_loss: 2.923366133371989, test_acc: 32.66%\n",
            " 70% 7/10 [30:31<13:04, 261.52s/it]epoch: 7, train_loss: 3.065363091392517, train_acc: 30.26%, test_loss: 2.854139870710862, test_acc: 33.47%\n",
            " 80% 8/10 [34:51<08:41, 260.97s/it]epoch: 8, train_loss: 3.019702777633667, train_acc: 31.08%, test_loss: 2.864013556180856, test_acc: 33.56%\n",
            " 90% 9/10 [39:10<04:20, 260.57s/it]epoch: 9, train_loss: 2.9781228622817992, train_acc: 31.81%, test_loss: 2.753141623735428, test_acc: 35.83%\n",
            "100% 10/10 [43:31<00:00, 261.13s/it]\n",
            "Saving model ...\n",
            "Generating Sample Images Test\n"
          ]
        }
      ]
    },
    {
      "cell_type": "code",
      "source": [
        "with open(\"tiny-imagenet-200/words.txt\",\"r\") as f:\n",
        "  words_ = f.readlines()\n",
        "with open(\"tiny-imagenet-200/wnids.txt\",\"r\") as f:\n",
        "  wnids = f.readlines()"
      ],
      "metadata": {
        "id": "lT0MEJeubJBG"
      },
      "execution_count": null,
      "outputs": []
    },
    {
      "cell_type": "code",
      "source": [
        "words = {}\n",
        "for elem in words_:\n",
        "  k, v = elem.split(\"\\t\")\n",
        "  words[k] = v  "
      ],
      "metadata": {
        "id": "YeWW6f2NbV3T"
      },
      "execution_count": null,
      "outputs": []
    },
    {
      "cell_type": "code",
      "source": [
        "!python3 test.py --gpu --model-path ./trained_models/tiny_imagenet_200_cnn.ckpt --model simple_general_cnn --dataset image_folder --root ./tiny-imagenet-200/ --num-classes 200 --dashboard --samples --url $URL_DASHBOARD"
      ],
      "metadata": {
        "colab": {
          "base_uri": "https://localhost:8080/"
        },
        "id": "65tXi-YFcCr0",
        "outputId": "aa3416de-bb47-443f-f95f-6fd06d5ce93a"
      },
      "execution_count": null,
      "outputs": [
        {
          "output_type": "stream",
          "name": "stdout",
          "text": [
            "Using GPU for testing\n",
            "Start Testing ...\n",
            "train_loss: 2.8405036336898806, train_acc: 34.39%, test_loss: 2.7922733036313043, test_acc: 35.43%\n",
            "Preparing Dashboard Logger\n",
            "Generating Sample Images Test\n"
          ]
        }
      ]
    },
    {
      "cell_type": "markdown",
      "source": [
        "# CIFAR10 Resnet"
      ],
      "metadata": {
        "id": "E7402Bfklb0c"
      }
    },
    {
      "cell_type": "code",
      "source": [
        "!python3 train.py --save-model --checkpoint 1 --gpu --dashboard --samples --landscape --model cifar10_resnet --dataset cifar10 --url $URL_DASHBOARD"
      ],
      "metadata": {
        "colab": {
          "base_uri": "https://localhost:8080/"
        },
        "id": "fbdy9NgJtIkr",
        "outputId": "a779781f-257a-412f-87ea-150a5126ff03"
      },
      "execution_count": 5,
      "outputs": [
        {
          "output_type": "stream",
          "name": "stdout",
          "text": [
            "Using GPU for training\n",
            "Downloading https://www.cs.toronto.edu/~kriz/cifar-10-python.tar.gz to ./data/cifar-10-python.tar.gz\n",
            "170499072it [00:11, 15178096.47it/s]                   \n",
            "Extracting ./data/cifar-10-python.tar.gz to ./data/\n",
            "Files already downloaded and verified\n",
            "Files already downloaded and verified\n",
            "Preparing Dashboard Logger\n",
            "Start Training ...\n",
            "  0% 0/10 [00:00<?, ?it/s]epoch: 0, train_loss: 1.4964650376668285, train_acc: 44.80%, test_loss: 1.3156478370721347, test_acc: 51.82%\n",
            " 10% 1/10 [00:40<06:02, 40.25s/it]epoch: 1, train_loss: 1.182941264360285, train_acc: 57.23%, test_loss: 1.2087936669873733, test_acc: 57.77%\n",
            " 20% 2/10 [01:20<05:21, 40.18s/it]epoch: 2, train_loss: 1.0555575490760558, train_acc: 62.41%, test_loss: 1.0168366993958957, test_acc: 63.80%\n",
            " 30% 3/10 [02:00<04:41, 40.25s/it]epoch: 3, train_loss: 0.975054505728638, train_acc: 65.44%, test_loss: 0.9366153540512243, test_acc: 66.60%\n",
            " 40% 4/10 [02:40<04:00, 40.00s/it]epoch: 4, train_loss: 0.9129734566519829, train_acc: 67.60%, test_loss: 0.8660082447643097, test_acc: 69.46%\n",
            " 50% 5/10 [03:20<03:19, 39.93s/it]epoch: 5, train_loss: 0.8634250402183619, train_acc: 69.56%, test_loss: 0.8571956267181676, test_acc: 69.99%\n",
            " 60% 6/10 [03:59<02:39, 39.79s/it]epoch: 6, train_loss: 0.8213649712650729, train_acc: 71.03%, test_loss: 0.8321705661452236, test_acc: 70.61%\n",
            " 70% 7/10 [04:39<01:59, 39.75s/it]epoch: 7, train_loss: 0.7919622681420047, train_acc: 72.02%, test_loss: 0.7914831306035526, test_acc: 72.10%\n",
            " 80% 8/10 [05:18<01:19, 39.64s/it]epoch: 8, train_loss: 0.7657593293443218, train_acc: 73.14%, test_loss: 0.7621308317580543, test_acc: 73.18%\n",
            " 90% 9/10 [05:58<00:39, 39.55s/it]epoch: 9, train_loss: 0.7426828549446697, train_acc: 73.98%, test_loss: 0.7624281165889277, test_acc: 72.97%\n",
            "100% 10/10 [06:37<00:00, 39.77s/it]\n",
            "Saving model ...\n",
            "Generating Sample Images Test\n",
            "Generating Landscape\n"
          ]
        }
      ]
    },
    {
      "cell_type": "code",
      "source": [
        "!python3 test.py --gpu --dashboard --samples --landscape --model-path ./trained_models/cifar10_resnet.ckpt --model cifar10_resnet --dataset cifar10 --url $URL_DASHBOARD"
      ],
      "metadata": {
        "colab": {
          "base_uri": "https://localhost:8080/"
        },
        "id": "VxUchlWV6t5q",
        "outputId": "ae090bd5-1b2e-4df0-cb75-08d7e8c4c1b0"
      },
      "execution_count": 6,
      "outputs": [
        {
          "output_type": "stream",
          "name": "stdout",
          "text": [
            "Using GPU for testing\n",
            "Files already downloaded and verified\n",
            "Files already downloaded and verified\n",
            "Files already downloaded and verified\n",
            "Start Testing ...\n",
            "train_loss: 0.7343656751717502, train_acc: 73.97%, test_loss: 0.7624281165889277, test_acc: 72.97%\n",
            "Preparing Dashboard Logger\n",
            "Generating Sample Images Test\n",
            "Generating Landscape\n"
          ]
        }
      ]
    }
  ]
}