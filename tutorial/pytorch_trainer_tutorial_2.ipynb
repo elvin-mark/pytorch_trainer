{
  "nbformat": 4,
  "nbformat_minor": 0,
  "metadata": {
    "colab": {
      "name": "pytorch_trainer_tutorial_2.ipynb",
      "provenance": [],
      "collapsed_sections": []
    },
    "kernelspec": {
      "name": "python3",
      "display_name": "Python 3"
    },
    "language_info": {
      "name": "python"
    },
    "accelerator": "GPU"
  },
  "cells": [
    {
      "cell_type": "code",
      "execution_count": 1,
      "metadata": {
        "id": "s6JVhGBzJPNd",
        "outputId": "d4fb6f1e-b826-4158-c3c9-012c6b459783",
        "colab": {
          "base_uri": "https://localhost:8080/"
        }
      },
      "outputs": [
        {
          "output_type": "stream",
          "name": "stdout",
          "text": [
            "Cloning into 'pytorch_trainer'...\n",
            "remote: Enumerating objects: 273, done.\u001b[K\n",
            "remote: Counting objects: 100% (273/273), done.\u001b[K\n",
            "remote: Compressing objects: 100% (191/191), done.\u001b[K\n",
            "remote: Total 273 (delta 154), reused 187 (delta 70), pack-reused 0\u001b[K\n",
            "Receiving objects: 100% (273/273), 1.65 MiB | 8.80 MiB/s, done.\n",
            "Resolving deltas: 100% (154/154), done.\n"
          ]
        }
      ],
      "source": [
        "!git clone https://github.com/elvin-mark/pytorch_trainer.git"
      ]
    },
    {
      "cell_type": "code",
      "source": [
        "from google.colab import drive \n",
        "drive.mount(\"./content\")"
      ],
      "metadata": {
        "colab": {
          "base_uri": "https://localhost:8080/"
        },
        "id": "pyAV8QEZJbZ7",
        "outputId": "db98752d-8ab2-4f92-c840-ff98f5815123"
      },
      "execution_count": 2,
      "outputs": [
        {
          "output_type": "stream",
          "name": "stdout",
          "text": [
            "Mounted at ./content\n"
          ]
        }
      ]
    },
    {
      "cell_type": "code",
      "source": [
        "!mkdir .kaggle\n",
        "!cp ./content/MyDrive/kaggle/kaggle.json .kaggle/\n",
        "!mv .kaggle ~/"
      ],
      "metadata": {
        "id": "UAxBNhmkJhu5"
      },
      "execution_count": 3,
      "outputs": []
    },
    {
      "cell_type": "code",
      "source": [
        "%cd pytorch_trainer/"
      ],
      "metadata": {
        "colab": {
          "base_uri": "https://localhost:8080/"
        },
        "id": "WSX5UrilJu4-",
        "outputId": "35bcc78b-1a5d-4c91-c55b-a2bbf8ce864c"
      },
      "execution_count": 4,
      "outputs": [
        {
          "output_type": "stream",
          "name": "stdout",
          "text": [
            "/content/pytorch_trainer\n"
          ]
        }
      ]
    },
    {
      "cell_type": "code",
      "source": [
        "import os\n",
        "import random"
      ],
      "metadata": {
        "id": "Dkq1TTuoJxjM"
      },
      "execution_count": 5,
      "outputs": []
    },
    {
      "cell_type": "code",
      "source": [
        "os.environ[\"URL\"] = \"https://c413-240b-10-2e60-6e00-d38-43fd-efcf-1f4d.ngrok.io/\""
      ],
      "metadata": {
        "id": "JtezLl4_KSl3"
      },
      "execution_count": 6,
      "outputs": []
    },
    {
      "cell_type": "code",
      "source": [
        "!python3 train.py --help"
      ],
      "metadata": {
        "colab": {
          "base_uri": "https://localhost:8080/"
        },
        "id": "BspmMX88KbRJ",
        "outputId": "8000623f-3beb-40fa-fb04-27991abde058"
      },
      "execution_count": 9,
      "outputs": [
        {
          "output_type": "stream",
          "name": "stdout",
          "text": [
            "usage: train.py [-h]\n",
            "                [--dataset {digits,mnist,kmnist,fashion_mnist,cifar10,cifar100,image_folder}]\n",
            "                [--root ROOT] [--num-classes NUM_CLASSES]\n",
            "                [--model {digits_cnn,digits_resnet,mnist_cnn,mnist_resnet,cifar10_cnn,cifar10_resnet,cifar100_cnn,simple_general_cnn,resnet18}]\n",
            "                [--batch-size BATCH_SIZE] [--gpu] [--optim OPTIM] [--lr LR]\n",
            "                [--epochs EPOCHS] [--logging] [--no-logging] [--save-model]\n",
            "                [--csv] [--dashboard] [--port PORT] [--checkpoint CHECKPOINT]\n",
            "                [--landscape] [--samples] [--url URL]\n",
            "                [--start-model START_MODEL] [--save-labels] [--customize]\n",
            "                [--sched {none,step}] [--step-size STEP_SIZE] [--gamma GAMMA]\n",
            "                [--split-dataset] [--train-size TRAIN_SIZE]\n",
            "\n",
            "Simple Trainer for computer vision models\n",
            "\n",
            "optional arguments:\n",
            "  -h, --help            show this help message and exit\n",
            "  --dataset {digits,mnist,kmnist,fashion_mnist,cifar10,cifar100,image_folder}\n",
            "                        Dataset to be used\n",
            "  --root ROOT           Root folder for images\n",
            "  --num-classes NUM_CLASSES\n",
            "                        Number of classes\n",
            "  --model {digits_cnn,digits_resnet,mnist_cnn,mnist_resnet,cifar10_cnn,cifar10_resnet,cifar100_cnn,simple_general_cnn,resnet18}\n",
            "                        Model to be trained\n",
            "  --batch-size BATCH_SIZE\n",
            "                        Batch size to be used in the DataLoaders\n",
            "  --gpu                 Train using GPU\n",
            "  --optim OPTIM         Optimzer to be used\n",
            "  --lr LR               Learning rate\n",
            "  --epochs EPOCHS       Number of epochs\n",
            "  --logging             Logging training process\n",
            "  --no-logging          No Logging during training\n",
            "  --save-model          Save trained model\n",
            "  --csv                 Make a csv file recording the training process\n",
            "  --dashboard           Visualize training process in a dashboard\n",
            "  --port PORT           Port of the dashboard server\n",
            "  --checkpoint CHECKPOINT\n",
            "                        Checkpoint frequency\n",
            "  --landscape           Show loss landscape in the dashboard\n",
            "  --samples             show some sample images in the dashboard\n",
            "  --url URL             Specify a customize URL for the dashboard\n",
            "  --start-model START_MODEL\n",
            "                        Initial checkpoint for training\n",
            "  --save-labels         Save the labels to map the classes\n",
            "  --customize           Customize models and datasets\n",
            "  --sched {none,step}   Schedule for learning rate\n",
            "  --step-size STEP_SIZE\n",
            "                        Step size for learning rate\n",
            "  --gamma GAMMA         Gamma for learning rate\n",
            "  --split-dataset       split the images in the root folder into train and\n",
            "                        test datset\n",
            "  --train-size TRAIN_SIZE\n",
            "                        train size scale when splitting the dataset into train\n",
            "                        and test dataset\n"
          ]
        }
      ]
    },
    {
      "cell_type": "code",
      "source": [
        "!python3 train.py --checkpoint 1 --save-model --dashboard --url $URL --landscape --samples "
      ],
      "metadata": {
        "colab": {
          "base_uri": "https://localhost:8080/"
        },
        "id": "yaJSSvlMKWJi",
        "outputId": "cacda46f-b3b7-44db-98ad-b32bf003cf68"
      },
      "execution_count": 11,
      "outputs": [
        {
          "output_type": "stream",
          "name": "stdout",
          "text": [
            "Using CPU for training. It can be a little bit slow\n",
            "Preparing Dashboard Logger\n",
            "Start Training ...\n",
            "  0% 0/10 [00:00<?, ?it/s]epoch: 0, train_loss: 1.296507673520668, train_acc: 59.55%, test_loss: 0.6091780165831248, test_acc: 82.22%\n",
            " 10% 1/10 [00:00<00:05,  1.51it/s]epoch: 1, train_loss: 0.42023614677144033, train_acc: 86.83%, test_loss: 0.17287103397150835, test_acc: 95.00%\n",
            " 20% 2/10 [00:01<00:04,  2.00it/s]epoch: 2, train_loss: 0.1962400151453182, train_acc: 93.82%, test_loss: 0.09379572824885447, test_acc: 97.22%\n",
            " 30% 3/10 [00:01<00:03,  2.27it/s]epoch: 3, train_loss: 0.10416045087371387, train_acc: 96.66%, test_loss: 0.0974098223571976, test_acc: 96.67%\n",
            " 40% 4/10 [00:01<00:02,  2.42it/s]epoch: 4, train_loss: 0.07837487056431379, train_acc: 97.40%, test_loss: 0.07114767531553905, test_acc: 97.22%\n",
            " 50% 5/10 [00:02<00:02,  2.49it/s]epoch: 5, train_loss: 0.0495227412001102, train_acc: 98.21%, test_loss: 0.0621155008363227, test_acc: 97.78%\n",
            " 60% 6/10 [00:02<00:01,  2.55it/s]epoch: 6, train_loss: 0.05184074166669127, train_acc: 97.96%, test_loss: 0.07625006325542927, test_acc: 98.33%\n",
            " 70% 7/10 [00:02<00:01,  2.59it/s]epoch: 7, train_loss: 0.03141807867488002, train_acc: 99.26%, test_loss: 0.03592470148578286, test_acc: 98.89%\n",
            " 80% 8/10 [00:03<00:00,  2.62it/s]epoch: 8, train_loss: 0.014506766787734722, train_acc: 99.69%, test_loss: 0.041817035215596356, test_acc: 98.33%\n",
            " 90% 9/10 [00:03<00:00,  2.61it/s]epoch: 9, train_loss: 0.044536997098475695, train_acc: 99.20%, test_loss: 0.12039213006695111, test_acc: 94.44%\n",
            "100% 10/10 [00:04<00:00,  2.47it/s]\n",
            "Saving model ...\n",
            "Generating Sample Images Test\n",
            "Generating Landscape\n"
          ]
        }
      ]
    },
    {
      "cell_type": "code",
      "source": [
        "!python3 train.py --dataset mnist --model mnist_cnn --save-model --dashboard --url $URL --samples --gpu"
      ],
      "metadata": {
        "colab": {
          "base_uri": "https://localhost:8080/"
        },
        "id": "SSW7fDjmK_hM",
        "outputId": "0b3b833d-ab02-425f-ef78-e25e107056b1"
      },
      "execution_count": 12,
      "outputs": [
        {
          "output_type": "stream",
          "name": "stdout",
          "text": [
            "Using CPU for training. It can be a little bit slow\n",
            "Downloading http://yann.lecun.com/exdb/mnist/train-images-idx3-ubyte.gz\n",
            "Downloading http://yann.lecun.com/exdb/mnist/train-images-idx3-ubyte.gz to ./data/MNIST/raw/train-images-idx3-ubyte.gz\n",
            "9913344it [00:00, 74530199.36it/s]                 \n",
            "Extracting ./data/MNIST/raw/train-images-idx3-ubyte.gz to ./data/MNIST/raw\n",
            "\n",
            "Downloading http://yann.lecun.com/exdb/mnist/train-labels-idx1-ubyte.gz\n",
            "Downloading http://yann.lecun.com/exdb/mnist/train-labels-idx1-ubyte.gz to ./data/MNIST/raw/train-labels-idx1-ubyte.gz\n",
            "29696it [00:00, 69895651.84it/s]\n",
            "Extracting ./data/MNIST/raw/train-labels-idx1-ubyte.gz to ./data/MNIST/raw\n",
            "\n",
            "Downloading http://yann.lecun.com/exdb/mnist/t10k-images-idx3-ubyte.gz\n",
            "Downloading http://yann.lecun.com/exdb/mnist/t10k-images-idx3-ubyte.gz to ./data/MNIST/raw/t10k-images-idx3-ubyte.gz\n",
            "1649664it [00:00, 24391523.71it/s]\n",
            "Extracting ./data/MNIST/raw/t10k-images-idx3-ubyte.gz to ./data/MNIST/raw\n",
            "\n",
            "Downloading http://yann.lecun.com/exdb/mnist/t10k-labels-idx1-ubyte.gz\n",
            "Downloading http://yann.lecun.com/exdb/mnist/t10k-labels-idx1-ubyte.gz to ./data/MNIST/raw/t10k-labels-idx1-ubyte.gz\n",
            "5120it [00:00, 26877142.03it/s]\n",
            "Extracting ./data/MNIST/raw/t10k-labels-idx1-ubyte.gz to ./data/MNIST/raw\n",
            "\n",
            "Preparing Dashboard Logger\n",
            "Start Training ...\n",
            "  0% 0/10 [00:00<?, ?it/s]epoch: 0, train_loss: 0.11600289470922823, train_acc: 96.71%, test_loss: 0.06232091639181242, test_acc: 98.22%\n",
            " 10% 1/10 [00:39<05:52, 39.13s/it]epoch: 1, train_loss: 0.050131532508445285, train_acc: 98.49%, test_loss: 0.050180694450371, test_acc: 98.56%\n",
            " 20% 2/10 [01:18<05:12, 39.00s/it]epoch: 2, train_loss: 0.03461630024431894, train_acc: 99.00%, test_loss: 0.04814300844466048, test_acc: 98.62%\n",
            " 30% 3/10 [01:57<04:33, 39.06s/it]epoch: 3, train_loss: 0.02561444270843252, train_acc: 99.34%, test_loss: 0.04576719635405753, test_acc: 98.66%\n",
            " 40% 4/10 [02:35<03:53, 38.92s/it]epoch: 4, train_loss: 0.019414065175668415, train_acc: 99.53%, test_loss: 0.04643324524916994, test_acc: 98.74%\n",
            " 50% 5/10 [03:14<03:14, 38.87s/it]epoch: 5, train_loss: 0.014587068252106353, train_acc: 99.68%, test_loss: 0.047266540001535864, test_acc: 98.75%\n",
            " 60% 6/10 [03:53<02:35, 38.86s/it]epoch: 6, train_loss: 0.010511901508535568, train_acc: 99.81%, test_loss: 0.04828001480286919, test_acc: 98.69%\n",
            " 70% 7/10 [04:32<01:56, 38.94s/it]epoch: 7, train_loss: 0.007249791155696584, train_acc: 99.90%, test_loss: 0.046972670807636764, test_acc: 98.83%\n",
            " 80% 8/10 [05:11<01:17, 38.90s/it]epoch: 8, train_loss: 0.005082680143732674, train_acc: 99.94%, test_loss: 0.04857654449630519, test_acc: 98.81%\n",
            " 90% 9/10 [05:50<00:38, 38.84s/it]epoch: 9, train_loss: 0.003353220792425903, train_acc: 99.97%, test_loss: 0.048242515936107636, test_acc: 98.84%\n",
            "100% 10/10 [06:28<00:00, 38.88s/it]\n",
            "Saving model ...\n",
            "Generating Sample Images Test\n"
          ]
        }
      ]
    },
    {
      "cell_type": "code",
      "source": [
        "!python3 train.py --dataset fashion_mnist --model mnist_resnet --sched step --gamma 0.2 --step-size 4 --save-model --dashboard --url $URL --samples --gpu"
      ],
      "metadata": {
        "colab": {
          "base_uri": "https://localhost:8080/"
        },
        "id": "YyRBn5zMOvf6",
        "outputId": "3d6ab12f-8aee-4adf-ee9f-f7451d3bb715"
      },
      "execution_count": null,
      "outputs": [
        {
          "output_type": "stream",
          "name": "stdout",
          "text": [
            "Using GPU for training\n",
            "Downloading http://fashion-mnist.s3-website.eu-central-1.amazonaws.com/train-images-idx3-ubyte.gz\n",
            "Downloading http://fashion-mnist.s3-website.eu-central-1.amazonaws.com/train-images-idx3-ubyte.gz to ./data/FashionMNIST/raw/train-images-idx3-ubyte.gz\n",
            "26422272it [00:01, 15116030.44it/s]                  \n",
            "Extracting ./data/FashionMNIST/raw/train-images-idx3-ubyte.gz to ./data/FashionMNIST/raw\n",
            "\n",
            "Downloading http://fashion-mnist.s3-website.eu-central-1.amazonaws.com/train-labels-idx1-ubyte.gz\n",
            "Downloading http://fashion-mnist.s3-website.eu-central-1.amazonaws.com/train-labels-idx1-ubyte.gz to ./data/FashionMNIST/raw/train-labels-idx1-ubyte.gz\n",
            "29696it [00:00, 272748.89it/s]               \n",
            "Extracting ./data/FashionMNIST/raw/train-labels-idx1-ubyte.gz to ./data/FashionMNIST/raw\n",
            "\n",
            "Downloading http://fashion-mnist.s3-website.eu-central-1.amazonaws.com/t10k-images-idx3-ubyte.gz\n",
            "Downloading http://fashion-mnist.s3-website.eu-central-1.amazonaws.com/t10k-images-idx3-ubyte.gz to ./data/FashionMNIST/raw/t10k-images-idx3-ubyte.gz\n",
            "4422656it [00:00, 5060503.48it/s]                 \n",
            "Extracting ./data/FashionMNIST/raw/t10k-images-idx3-ubyte.gz to ./data/FashionMNIST/raw\n",
            "\n",
            "Downloading http://fashion-mnist.s3-website.eu-central-1.amazonaws.com/t10k-labels-idx1-ubyte.gz\n",
            "Downloading http://fashion-mnist.s3-website.eu-central-1.amazonaws.com/t10k-labels-idx1-ubyte.gz to ./data/FashionMNIST/raw/t10k-labels-idx1-ubyte.gz\n",
            "6144it [00:00, 26704459.87it/s]\n",
            "Extracting ./data/FashionMNIST/raw/t10k-labels-idx1-ubyte.gz to ./data/FashionMNIST/raw\n",
            "\n",
            "Preparing Dashboard Logger\n",
            "Start Training ...\n",
            "  0% 0/10 [00:00<?, ?it/s]epoch: 0, train_loss: 0.46636038751006126, train_acc: 83.87%, test_loss: 0.3513598948978959, test_acc: 87.21%\n",
            " 10% 1/10 [00:30<04:34, 30.55s/it]epoch: 1, train_loss: 0.2905743237396081, train_acc: 89.39%, test_loss: 0.2970787310324157, test_acc: 89.53%\n",
            " 20% 2/10 [01:01<04:04, 30.53s/it]epoch: 2, train_loss: 0.24300536460081737, train_acc: 91.00%, test_loss: 0.28561483982938546, test_acc: 89.84%\n",
            " 30% 3/10 [01:31<03:33, 30.54s/it]epoch: 3, train_loss: 0.21032964001993337, train_acc: 92.33%, test_loss: 0.28808038613309683, test_acc: 89.83%\n",
            " 40% 4/10 [02:01<03:02, 30.46s/it]epoch: 4, train_loss: 0.14480319103548925, train_acc: 94.74%, test_loss: 0.2618595843974013, test_acc: 91.01%\n",
            " 50% 5/10 [02:32<02:31, 30.39s/it]epoch: 5, train_loss: 0.122654956766963, train_acc: 95.71%, test_loss: 0.26502914226557406, test_acc: 91.22%\n",
            " 60% 6/10 [03:02<02:01, 30.40s/it]epoch: 6, train_loss: 0.10728102227747441, train_acc: 96.35%, test_loss: 0.27095407766168017, test_acc: 91.21%\n",
            " 70% 7/10 [03:33<01:31, 30.59s/it]epoch: 7, train_loss: 0.09343193010985851, train_acc: 96.85%, test_loss: 0.27982577013548093, test_acc: 91.08%\n",
            " 80% 8/10 [04:04<01:01, 30.63s/it]epoch: 8, train_loss: 0.07551369467948874, train_acc: 97.65%, test_loss: 0.2721800071443208, test_acc: 91.25%\n",
            " 90% 9/10 [04:35<00:30, 30.64s/it]epoch: 9, train_loss: 0.0696626734431833, train_acc: 97.96%, test_loss: 0.274556511803307, test_acc: 91.28%\n",
            "100% 10/10 [05:05<00:00, 30.56s/it]\n",
            "Saving model ...\n",
            "Generating Sample Images Test\n"
          ]
        }
      ]
    },
    {
      "cell_type": "code",
      "source": [
        "!python3 train.py --dataset cifar10 --model cifar10_resnet --sched step --gamma 0.2 --step-size 5 --save-model --dashboard --url $URL --samples --gpu"
      ],
      "metadata": {
        "colab": {
          "base_uri": "https://localhost:8080/"
        },
        "id": "7mA5pwifMmjI",
        "outputId": "34ef4722-4817-4093-d0a1-7bdf793fc2aa"
      },
      "execution_count": null,
      "outputs": [
        {
          "output_type": "stream",
          "name": "stdout",
          "text": [
            "Using GPU for training\n",
            "Downloading https://www.cs.toronto.edu/~kriz/cifar-10-python.tar.gz to ./data/cifar-10-python.tar.gz\n",
            "170499072it [00:02, 77873641.29it/s]                   \n",
            "Extracting ./data/cifar-10-python.tar.gz to ./data/\n",
            "Files already downloaded and verified\n",
            "Files already downloaded and verified\n",
            "Preparing Dashboard Logger\n",
            "Start Training ...\n",
            "  0% 0/10 [00:00<?, ?it/s]epoch: 0, train_loss: 1.497759976489225, train_acc: 44.73%, test_loss: 1.3383804772989438, test_acc: 51.92%\n",
            " 10% 1/10 [00:41<06:15, 41.67s/it]epoch: 1, train_loss: 1.1832197705523295, train_acc: 57.32%, test_loss: 1.2498862457732423, test_acc: 56.40%\n",
            " 20% 2/10 [01:23<05:33, 41.65s/it]epoch: 2, train_loss: 1.0553433097331706, train_acc: 62.45%, test_loss: 1.0071638611178049, test_acc: 64.22%\n",
            " 30% 3/10 [02:04<04:51, 41.62s/it]epoch: 3, train_loss: 0.9768518300027476, train_acc: 65.15%, test_loss: 0.9567664793124214, test_acc: 66.16%\n",
            " 40% 4/10 [02:46<04:09, 41.66s/it]epoch: 4, train_loss: 0.9226573766307501, train_acc: 67.36%, test_loss: 0.9192444907781034, test_acc: 67.61%\n",
            " 50% 5/10 [03:28<03:28, 41.75s/it]epoch: 5, train_loss: 0.812190781990382, train_acc: 71.35%, test_loss: 0.7753891064145695, test_acc: 72.21%\n",
            " 60% 6/10 [04:10<02:46, 41.67s/it]epoch: 6, train_loss: 0.7801179954697517, train_acc: 72.45%, test_loss: 0.7624553377255083, test_acc: 72.78%\n",
            " 70% 7/10 [04:52<02:05, 41.83s/it]epoch: 7, train_loss: 0.7654882829614884, train_acc: 73.03%, test_loss: 0.7498960804444151, test_acc: 73.30%\n",
            " 80% 8/10 [05:34<01:23, 41.97s/it]epoch: 8, train_loss: 0.7506375562397243, train_acc: 73.38%, test_loss: 0.7503943728943603, test_acc: 73.59%\n",
            " 90% 9/10 [06:16<00:41, 41.98s/it]epoch: 9, train_loss: 0.7439233638961118, train_acc: 73.91%, test_loss: 0.7360310711609289, test_acc: 73.67%\n",
            "100% 10/10 [06:58<00:00, 41.86s/it]\n",
            "Saving model ...\n",
            "Generating Sample Images Test\n"
          ]
        }
      ]
    },
    {
      "cell_type": "code",
      "source": [
        "!kaggle datasets download lantian773030/pokemonclassification\n",
        "!unzip pokemonclassification.zip"
      ],
      "metadata": {
        "id": "uEKmc6KgOtFf"
      },
      "execution_count": null,
      "outputs": []
    },
    {
      "cell_type": "code",
      "source": [
        "!python3 train.py --dataset image_folder --root ./PokemonData/ --num-classes 150 --model simple_general_cnn --epochs 20 \\\n",
        " --split-dataset --train-size 0.8 --sched step --gamma 0.2 --step-size 5 --save-model --dashboard --url $URL --samples --gpu"
      ],
      "metadata": {
        "colab": {
          "base_uri": "https://localhost:8080/"
        },
        "id": "jcwKuwHNRz4i",
        "outputId": "2f0c6083-42a4-4cdc-abb6-d8c8c60fa488"
      },
      "execution_count": 8,
      "outputs": [
        {
          "output_type": "stream",
          "name": "stdout",
          "text": [
            "Using GPU for training\n",
            "Preparing Dashboard Logger\n",
            "Start Training ...\n",
            "  0% 0/20 [00:00<?, ?it/s]epoch: 0, train_loss: 3.9953393740960728, train_acc: 11.36%, test_loss: 3.481248234593591, test_acc: 13.86%\n",
            "  5% 1/20 [01:00<19:14, 60.75s/it]epoch: 1, train_loss: 2.823638837937026, train_acc: 29.44%, test_loss: 2.79867590582648, test_acc: 27.79%\n",
            " 10% 2/20 [02:02<18:28, 61.57s/it]epoch: 2, train_loss: 2.2143694510933947, train_acc: 43.27%, test_loss: 2.3853144950644913, test_acc: 35.92%\n",
            " 15% 3/20 [03:03<17:21, 61.24s/it]epoch: 3, train_loss: 1.7789228582939907, train_acc: 52.86%, test_loss: 1.922014685564263, test_acc: 46.85%\n",
            " 20% 4/20 [04:06<16:28, 61.80s/it]epoch: 4, train_loss: 1.497055613158042, train_acc: 59.86%, test_loss: 2.0601971343506214, test_acc: 46.85%\n",
            " 25% 5/20 [05:08<15:28, 61.87s/it]epoch: 5, train_loss: 1.1095454194392378, train_acc: 72.64%, test_loss: 1.3536795045054235, test_acc: 63.49%\n",
            " 30% 6/20 [06:09<14:22, 61.64s/it]epoch: 6, train_loss: 0.9914171768907916, train_acc: 75.92%, test_loss: 1.2996401329373204, test_acc: 65.54%\n",
            " 35% 7/20 [07:09<13:15, 61.17s/it]epoch: 7, train_loss: 0.9388590225002222, train_acc: 77.42%, test_loss: 1.273258668045665, test_acc: 66.79%\n",
            " 40% 8/20 [08:09<12:09, 60.78s/it]epoch: 8, train_loss: 0.8892339952507912, train_acc: 78.34%, test_loss: 1.2342466795167257, test_acc: 66.50%\n",
            " 45% 9/20 [09:09<11:06, 60.55s/it]epoch: 9, train_loss: 0.8459860013242353, train_acc: 79.29%, test_loss: 1.2056438118912454, test_acc: 68.11%\n",
            " 50% 10/20 [10:09<10:02, 60.26s/it]epoch: 10, train_loss: 0.768173485122926, train_acc: 82.59%, test_loss: 1.1864675491355186, test_acc: 67.82%\n",
            " 55% 11/20 [11:10<09:03, 60.37s/it]epoch: 11, train_loss: 0.7391543646304928, train_acc: 83.71%, test_loss: 1.1696283262829448, test_acc: 68.26%\n",
            " 60% 12/20 [12:11<08:05, 60.63s/it]epoch: 12, train_loss: 0.7335041249007509, train_acc: 83.69%, test_loss: 1.1789944102597791, test_acc: 69.06%\n",
            " 65% 13/20 [13:11<07:03, 60.55s/it]epoch: 13, train_loss: 0.7296683279394406, train_acc: 83.45%, test_loss: 1.1654328329618586, test_acc: 68.70%\n",
            " 70% 14/20 [14:12<06:03, 60.61s/it]epoch: 14, train_loss: 0.7168641125249584, train_acc: 83.91%, test_loss: 1.162223688391752, test_acc: 68.40%\n",
            " 75% 15/20 [15:13<05:04, 60.84s/it]epoch: 15, train_loss: 0.7013593959180933, train_acc: 84.57%, test_loss: 1.163717701684597, test_acc: 68.70%\n",
            " 80% 16/20 [16:14<04:02, 60.71s/it]epoch: 16, train_loss: 0.7004259986835614, train_acc: 84.62%, test_loss: 1.1647547913152119, test_acc: 68.77%\n",
            " 85% 17/20 [17:16<03:03, 61.12s/it]epoch: 17, train_loss: 0.6976813386406815, train_acc: 83.87%, test_loss: 1.1556923056757726, test_acc: 68.77%\n",
            " 90% 18/20 [18:19<02:03, 61.74s/it]epoch: 18, train_loss: 0.6931573879300502, train_acc: 84.75%, test_loss: 1.1561362895854683, test_acc: 68.48%\n",
            " 95% 19/20 [19:22<01:02, 62.11s/it]epoch: 19, train_loss: 0.6887285256246377, train_acc: 84.40%, test_loss: 1.1565177163412406, test_acc: 69.06%\n",
            "100% 20/20 [20:24<00:00, 61.20s/it]\n",
            "Saving model ...\n",
            "Generating Sample Images Test\n"
          ]
        }
      ]
    }
  ]
}